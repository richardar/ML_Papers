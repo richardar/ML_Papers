{
 "cells": [
  {
   "cell_type": "code",
   "execution_count": 2,
   "id": "eb2234cd",
   "metadata": {},
   "outputs": [],
   "source": [
    "import zipfile\n",
    "import os\n",
    "\n",
    "with zipfile.ZipFile(os.path.join(os.getcwd(),'cifar10.zip'),'r') as zip_ref:\n",
    "    zip_ref.extractall()"
   ]
  },
  {
   "cell_type": "code",
   "execution_count": 3,
   "id": "141286f8",
   "metadata": {},
   "outputs": [],
   "source": [
    "import torch\n",
    "from torch import nn\n",
    "\n",
    "from torch.utils.data import DataLoader, Dataset\n",
    "from torchvision import transforms\n",
    "import numpy as np\n",
    "from PIL import  Image\n",
    "import pathlib"
   ]
  },
  {
   "cell_type": "code",
   "execution_count": 4,
   "id": "0ea5dc5a",
   "metadata": {},
   "outputs": [],
   "source": [
    "train_dir = os.path.join(os.getcwd(),'cifar10','train')\n",
    "test_dir  = os.path.join(os.getcwd(),'cifar10','test')\n"
   ]
  },
  {
   "cell_type": "code",
   "execution_count": 5,
   "id": "042c7be1",
   "metadata": {},
   "outputs": [
    {
     "name": "stdout",
     "output_type": "stream",
     "text": [
      "['airplane', 'automobile', 'bird', 'cat', 'deer', 'dog', 'frog', 'horse', 'ship', 'truck']\n"
     ]
    }
   ],
   "source": [
    "class_names = [name for name in os.listdir(test_dir)]\n",
    "class_names.sort()\n",
    "print(class_names)"
   ]
  },
  {
   "cell_type": "code",
   "execution_count": 6,
   "id": "9da57cc9",
   "metadata": {},
   "outputs": [
    {
     "name": "stdout",
     "output_type": "stream",
     "text": [
      "{'airplane': 0, 'automobile': 1, 'bird': 2, 'cat': 3, 'deer': 4, 'dog': 5, 'frog': 6, 'horse': 7, 'ship': 8, 'truck': 9}\n"
     ]
    }
   ],
   "source": [
    "class_dict = {name:num for num,name in enumerate(class_names)}\n",
    "print(class_dict)"
   ]
  },
  {
   "cell_type": "code",
   "execution_count": 7,
   "id": "3c7b51c1",
   "metadata": {},
   "outputs": [
    {
     "data": {
      "text/plain": [
       "'cuda'"
      ]
     },
     "execution_count": 7,
     "metadata": {},
     "output_type": "execute_result"
    }
   ],
   "source": [
    "device = \"cuda\" if torch.cuda.is_available() else 'cpu'\n",
    "device"
   ]
  },
  {
   "cell_type": "code",
   "execution_count": 8,
   "id": "deb405f0",
   "metadata": {},
   "outputs": [],
   "source": [
    "class cifarDS(Dataset):\n",
    "\n",
    "    def __init__(self,path:str,transform:transforms = None):\n",
    "        self.path = path\n",
    "        self.transform = transform\n",
    "        self.all_images = list(pathlib.Path(self.path).glob('*/*.png'))\n",
    "\n",
    "\n",
    "    def __len__(self):\n",
    "        return len(self.all_images)\n",
    "    \n",
    "    def getImage(self,path:str) -> Image.Image: \n",
    "\n",
    "        return Image.open(path)\n",
    "\n",
    "    def __getitem__(self, index:str ) -> tuple[torch.Tensor,int]:\n",
    "\n",
    "        path = self.all_images[index]\n",
    "\n",
    "        image = self.getImage(path)\n",
    "        classdir = os.path.basename(os.path.dirname(path))\n",
    "        classname = class_dict[classdir]\n",
    "\n",
    "        # y_onehot = torch.nn.functional.one_hot(torch.tensor(classname), num_classes=10).float()\n",
    "\n",
    "        if self.transform:\n",
    "            return self.transform(image) ,classname\n",
    "        \n",
    "\n",
    "        else:\n",
    "            self.transform = transforms.Compose([\n",
    "                transforms.ToTensor()\n",
    "            ])\n",
    "\n",
    "            return self.transform(image), classname\n",
    "\n",
    "\n",
    "\n",
    "\n",
    "\n",
    "        "
   ]
  },
  {
   "cell_type": "code",
   "execution_count": 9,
   "id": "369bac6d",
   "metadata": {},
   "outputs": [],
   "source": [
    "import matplotlib.pyplot as plt\n",
    "def visualize_image(img_tensor):\n",
    "    img  = img_tensor.permute(1,2,0)\n",
    "\n",
    "    plt.imshow(img)\n",
    "    plt.show()\n"
   ]
  },
  {
   "cell_type": "code",
   "execution_count": 10,
   "id": "5af2527a",
   "metadata": {},
   "outputs": [
    {
     "name": "stdout",
     "output_type": "stream",
     "text": [
      "(tensor([[[0.9725, 0.9647, 0.9765,  ..., 0.9412, 0.9686, 0.9843],\n",
      "         [0.9529, 0.9176, 0.8667,  ..., 0.4471, 0.4941, 0.7451],\n",
      "         [0.6549, 0.6157, 0.5843,  ..., 0.4000, 0.3451, 0.4784],\n",
      "         ...,\n",
      "         [0.4392, 0.4510, 0.4745,  ..., 0.3176, 0.3176, 0.3176],\n",
      "         [0.4588, 0.4706, 0.4784,  ..., 0.3059, 0.3059, 0.3098],\n",
      "         [0.4824, 0.4667, 0.4784,  ..., 0.3020, 0.3098, 0.3059]],\n",
      "\n",
      "        [[0.9961, 0.9922, 1.0000,  ..., 0.9569, 0.9843, 1.0000],\n",
      "         [1.0000, 0.9608, 0.9098,  ..., 0.4941, 0.5373, 0.7843],\n",
      "         [0.7059, 0.6667, 0.6353,  ..., 0.4510, 0.4000, 0.5333],\n",
      "         ...,\n",
      "         [0.4980, 0.5098, 0.5333,  ..., 0.3843, 0.3922, 0.3882],\n",
      "         [0.5059, 0.5176, 0.5216,  ..., 0.3725, 0.3765, 0.3804],\n",
      "         [0.5216, 0.5059, 0.5137,  ..., 0.3725, 0.3804, 0.3765]],\n",
      "\n",
      "        [[1.0000, 1.0000, 1.0000,  ..., 0.9569, 0.9804, 0.9961],\n",
      "         [1.0000, 0.9843, 0.9333,  ..., 0.5176, 0.5569, 0.8039],\n",
      "         [0.7412, 0.7020, 0.6745,  ..., 0.4980, 0.4431, 0.5765],\n",
      "         ...,\n",
      "         [0.5608, 0.5725, 0.5922,  ..., 0.4275, 0.4314, 0.4275],\n",
      "         [0.5686, 0.5804, 0.5882,  ..., 0.4118, 0.4157, 0.4196],\n",
      "         [0.5882, 0.5686, 0.5804,  ..., 0.4118, 0.4196, 0.4157]]]), 8)\n"
     ]
    }
   ],
   "source": [
    "train_dataset = cifarDS(path=train_dir)\n",
    "print(train_dataset[40000])\n",
    "\n"
   ]
  },
  {
   "cell_type": "code",
   "execution_count": null,
   "id": "e0bd676e",
   "metadata": {},
   "outputs": [],
   "source": []
  },
  {
   "cell_type": "code",
   "execution_count": 11,
   "id": "2735bfd5",
   "metadata": {},
   "outputs": [],
   "source": [
    "ImageTransform = transforms.Compose([\n",
    "    transforms.Resize((224,224)),\n",
    "\n",
    "    transforms.ToTensor()\n",
    "])"
   ]
  },
  {
   "cell_type": "code",
   "execution_count": 12,
   "id": "ee4367bb",
   "metadata": {},
   "outputs": [],
   "source": [
    "trainDataset = cifarDS(train_dir,ImageTransform)\n",
    "testDataset = cifarDS(test_dir,ImageTransform)\n"
   ]
  },
  {
   "cell_type": "code",
   "execution_count": 13,
   "id": "0df23047",
   "metadata": {},
   "outputs": [],
   "source": [
    "trainDataLoader = DataLoader(trainDataset,  batch_size=2,shuffle=True)\n",
    "testDataLoader  = DataLoader(testDataset,batch_size =1,shuffle=False)"
   ]
  },
  {
   "cell_type": "code",
   "execution_count": 14,
   "id": "3449a1c7",
   "metadata": {},
   "outputs": [
    {
     "name": "stdout",
     "output_type": "stream",
     "text": [
      "[tensor([[[[0.0824, 0.0824, 0.0824,  ..., 0.0824, 0.0824, 0.0824],\n",
      "          [0.0824, 0.0824, 0.0824,  ..., 0.0824, 0.0824, 0.0824],\n",
      "          [0.0824, 0.0824, 0.0824,  ..., 0.0824, 0.0824, 0.0824],\n",
      "          ...,\n",
      "          [0.3098, 0.3098, 0.3098,  ..., 0.1686, 0.1686, 0.1686],\n",
      "          [0.3098, 0.3098, 0.3098,  ..., 0.1686, 0.1686, 0.1686],\n",
      "          [0.3098, 0.3098, 0.3098,  ..., 0.1686, 0.1686, 0.1686]],\n",
      "\n",
      "         [[0.0314, 0.0314, 0.0314,  ..., 0.0431, 0.0431, 0.0431],\n",
      "          [0.0314, 0.0314, 0.0314,  ..., 0.0431, 0.0431, 0.0431],\n",
      "          [0.0314, 0.0314, 0.0314,  ..., 0.0431, 0.0431, 0.0431],\n",
      "          ...,\n",
      "          [0.3137, 0.3137, 0.3137,  ..., 0.1961, 0.1961, 0.1961],\n",
      "          [0.3137, 0.3137, 0.3137,  ..., 0.1961, 0.1961, 0.1961],\n",
      "          [0.3137, 0.3137, 0.3137,  ..., 0.1961, 0.1961, 0.1961]],\n",
      "\n",
      "         [[0.0902, 0.0902, 0.0902,  ..., 0.0863, 0.0863, 0.0863],\n",
      "          [0.0902, 0.0902, 0.0902,  ..., 0.0863, 0.0863, 0.0863],\n",
      "          [0.0902, 0.0902, 0.0902,  ..., 0.0863, 0.0863, 0.0863],\n",
      "          ...,\n",
      "          [0.3961, 0.3961, 0.3961,  ..., 0.3412, 0.3412, 0.3412],\n",
      "          [0.3961, 0.3961, 0.3961,  ..., 0.3412, 0.3412, 0.3412],\n",
      "          [0.3961, 0.3961, 0.3961,  ..., 0.3412, 0.3412, 0.3412]]]]), tensor([1])]\n"
     ]
    }
   ],
   "source": [
    "test_iterator = iter(testDataLoader)\n",
    "print(next(test_iterator))  "
   ]
  },
  {
   "cell_type": "markdown",
   "id": "0e0ec056",
   "metadata": {},
   "source": [
    "# building model"
   ]
  },
  {
   "cell_type": "code",
   "execution_count": 15,
   "id": "f9f65e4b",
   "metadata": {},
   "outputs": [],
   "source": [
    "class AlexNet(nn.Module):\n",
    "    \n",
    "\n",
    "    def __init__(self):\n",
    "        super().__init__()\n",
    "\n",
    "        self.layer1 = nn.Sequential(nn.Conv2d(in_channels=3,out_channels=96,kernel_size=11,stride=4,),\n",
    "                                    nn.ReLU(),\n",
    "                                    nn.LocalResponseNorm(size=5,alpha =0.001,beta=0.75,k=1),\n",
    "                                    nn.MaxPool2d(3,2)\n",
    "        )\n",
    "\n",
    "        self.layer2 = nn.Sequential(nn.Conv2d(in_channels=96,out_channels=256,kernel_size=5),\n",
    "                                    nn.ReLU(),\n",
    "                                    nn.LocalResponseNorm(5,0.001,0.75,1),\n",
    "                                    nn.MaxPool2d(3,2))\n",
    "\n",
    "        self.layer3 = nn.Sequential(nn.Conv2d(in_channels= 256,out_channels=384,kernel_size=3),\n",
    "                                    nn.ReLU()\n",
    "        )\n",
    "\n",
    "        self.layer4 = nn.Sequential(nn.Conv2d(in_channels=384,out_channels=384,kernel_size=3),\n",
    "                                    nn.ReLU())\n",
    "\n",
    "        self.layer5 = nn.Sequential(nn.Conv2d(in_channels=384,out_channels=256,kernel_size=3),\n",
    "                                    nn.ReLU(),\n",
    "                                    nn.Flatten())\n",
    "            \n",
    "\n",
    "        self.fc = nn.Sequential(nn.Dropout(),\n",
    "                                nn.Linear(in_features=4096,out_features=4096),\n",
    "                                nn.ReLU(),\n",
    "                                nn.Linear(in_features=4096,out_features=4096),\n",
    "                                nn.ReLU(),\n",
    "                                nn.Linear(in_features=4096,out_features=10)\n",
    "                                )\n",
    "  \n",
    "    def forward(self,x):\n",
    "\n",
    "        return (self.fc(self.layer5(self.layer4(self.layer3(self.layer2(self.layer1(x)))))))\n",
    "    \n",
    "\n",
    "\n"
   ]
  },
  {
   "cell_type": "code",
   "execution_count": 16,
   "id": "98048dad",
   "metadata": {},
   "outputs": [
    {
     "data": {
      "text/plain": [
       "AlexNet(\n",
       "  (layer1): Sequential(\n",
       "    (0): Conv2d(3, 96, kernel_size=(11, 11), stride=(4, 4))\n",
       "    (1): ReLU()\n",
       "    (2): LocalResponseNorm(5, alpha=0.001, beta=0.75, k=1)\n",
       "    (3): MaxPool2d(kernel_size=3, stride=2, padding=0, dilation=1, ceil_mode=False)\n",
       "  )\n",
       "  (layer2): Sequential(\n",
       "    (0): Conv2d(96, 256, kernel_size=(5, 5), stride=(1, 1))\n",
       "    (1): ReLU()\n",
       "    (2): LocalResponseNorm(5, alpha=0.001, beta=0.75, k=1)\n",
       "    (3): MaxPool2d(kernel_size=3, stride=2, padding=0, dilation=1, ceil_mode=False)\n",
       "  )\n",
       "  (layer3): Sequential(\n",
       "    (0): Conv2d(256, 384, kernel_size=(3, 3), stride=(1, 1))\n",
       "    (1): ReLU()\n",
       "  )\n",
       "  (layer4): Sequential(\n",
       "    (0): Conv2d(384, 384, kernel_size=(3, 3), stride=(1, 1))\n",
       "    (1): ReLU()\n",
       "  )\n",
       "  (layer5): Sequential(\n",
       "    (0): Conv2d(384, 256, kernel_size=(3, 3), stride=(1, 1))\n",
       "    (1): ReLU()\n",
       "    (2): Flatten(start_dim=1, end_dim=-1)\n",
       "  )\n",
       "  (fc): Sequential(\n",
       "    (0): Dropout(p=0.5, inplace=False)\n",
       "    (1): Linear(in_features=4096, out_features=4096, bias=True)\n",
       "    (2): ReLU()\n",
       "    (3): Linear(in_features=4096, out_features=4096, bias=True)\n",
       "    (4): ReLU()\n",
       "    (5): Linear(in_features=4096, out_features=10, bias=True)\n",
       "  )\n",
       ")"
      ]
     },
     "execution_count": 16,
     "metadata": {},
     "output_type": "execute_result"
    }
   ],
   "source": [
    "alexnet = AlexNet()\n",
    "alexnet.to(device)"
   ]
  },
  {
   "cell_type": "code",
   "execution_count": 17,
   "id": "71da86e3",
   "metadata": {},
   "outputs": [],
   "source": [
    "optim = torch.optim.Adam(alexnet.parameters(),)\n",
    "criteration = nn.CrossEntropyLoss()"
   ]
  },
  {
   "cell_type": "code",
   "execution_count": 18,
   "id": "d7b6fb5e",
   "metadata": {},
   "outputs": [],
   "source": [
    "from tqdm import tqdm\n"
   ]
  },
  {
   "cell_type": "code",
   "execution_count": 21,
   "id": "6267b3c8",
   "metadata": {},
   "outputs": [
    {
     "name": "stdout",
     "output_type": "stream",
     "text": [
      "[tensor([[[[0.7725, 0.7725, 0.7725,  ..., 0.7490, 0.7490, 0.7490],\n",
      "          [0.7725, 0.7725, 0.7725,  ..., 0.7490, 0.7490, 0.7490],\n",
      "          [0.7725, 0.7725, 0.7725,  ..., 0.7490, 0.7490, 0.7490],\n",
      "          ...,\n",
      "          [0.4078, 0.4078, 0.4078,  ..., 0.2039, 0.2039, 0.2039],\n",
      "          [0.4078, 0.4078, 0.4078,  ..., 0.2039, 0.2039, 0.2039],\n",
      "          [0.4078, 0.4078, 0.4078,  ..., 0.2039, 0.2039, 0.2039]],\n",
      "\n",
      "         [[0.7725, 0.7725, 0.7725,  ..., 0.7529, 0.7529, 0.7529],\n",
      "          [0.7725, 0.7725, 0.7725,  ..., 0.7529, 0.7529, 0.7529],\n",
      "          [0.7725, 0.7725, 0.7725,  ..., 0.7529, 0.7529, 0.7529],\n",
      "          ...,\n",
      "          [0.4588, 0.4588, 0.4588,  ..., 0.1843, 0.1843, 0.1843],\n",
      "          [0.4588, 0.4588, 0.4588,  ..., 0.1843, 0.1843, 0.1843],\n",
      "          [0.4588, 0.4588, 0.4588,  ..., 0.1843, 0.1843, 0.1843]],\n",
      "\n",
      "         [[0.7725, 0.7725, 0.7725,  ..., 0.7725, 0.7725, 0.7725],\n",
      "          [0.7725, 0.7725, 0.7725,  ..., 0.7725, 0.7725, 0.7725],\n",
      "          [0.7725, 0.7725, 0.7725,  ..., 0.7725, 0.7725, 0.7725],\n",
      "          ...,\n",
      "          [0.4902, 0.4902, 0.4902,  ..., 0.1804, 0.1804, 0.1804],\n",
      "          [0.4902, 0.4902, 0.4902,  ..., 0.1804, 0.1804, 0.1804],\n",
      "          [0.4902, 0.4902, 0.4902,  ..., 0.1804, 0.1804, 0.1804]]],\n",
      "\n",
      "\n",
      "        [[[0.4588, 0.4588, 0.4588,  ..., 0.2824, 0.2824, 0.2824],\n",
      "          [0.4588, 0.4588, 0.4588,  ..., 0.2824, 0.2824, 0.2824],\n",
      "          [0.4588, 0.4588, 0.4588,  ..., 0.2824, 0.2824, 0.2824],\n",
      "          ...,\n",
      "          [0.3882, 0.3882, 0.3882,  ..., 0.6431, 0.6431, 0.6431],\n",
      "          [0.3882, 0.3882, 0.3882,  ..., 0.6431, 0.6431, 0.6431],\n",
      "          [0.3882, 0.3882, 0.3882,  ..., 0.6431, 0.6431, 0.6431]],\n",
      "\n",
      "         [[0.4549, 0.4549, 0.4549,  ..., 0.2980, 0.2980, 0.2980],\n",
      "          [0.4549, 0.4549, 0.4549,  ..., 0.2980, 0.2980, 0.2980],\n",
      "          [0.4549, 0.4549, 0.4549,  ..., 0.2980, 0.2980, 0.2980],\n",
      "          ...,\n",
      "          [0.3922, 0.3922, 0.3922,  ..., 0.6431, 0.6431, 0.6431],\n",
      "          [0.3922, 0.3922, 0.3922,  ..., 0.6431, 0.6431, 0.6431],\n",
      "          [0.3922, 0.3922, 0.3922,  ..., 0.6431, 0.6431, 0.6431]],\n",
      "\n",
      "         [[0.4745, 0.4745, 0.4745,  ..., 0.3333, 0.3333, 0.3333],\n",
      "          [0.4745, 0.4745, 0.4745,  ..., 0.3333, 0.3333, 0.3333],\n",
      "          [0.4745, 0.4745, 0.4745,  ..., 0.3333, 0.3333, 0.3333],\n",
      "          ...,\n",
      "          [0.2588, 0.2588, 0.2588,  ..., 0.6314, 0.6314, 0.6314],\n",
      "          [0.2588, 0.2588, 0.2588,  ..., 0.6314, 0.6314, 0.6314],\n",
      "          [0.2588, 0.2588, 0.2588,  ..., 0.6314, 0.6314, 0.6314]]]]), tensor([8, 1])]\n"
     ]
    }
   ],
   "source": [
    "iterna = iter(trainDataLoader)\n",
    "print(next(iterna))"
   ]
  },
  {
   "cell_type": "code",
   "execution_count": null,
   "id": "ca788ce5",
   "metadata": {},
   "outputs": [],
   "source": [
    "import matplotlib.pyplot as plt\n",
    "import numpy as np"
   ]
  },
  {
   "cell_type": "code",
   "execution_count": 28,
   "id": "91dd84be",
   "metadata": {},
   "outputs": [
    {
     "name": "stdout",
     "output_type": "stream",
     "text": [
      "[1 2 3 4 5 6 7 8 9]\n"
     ]
    }
   ],
   "source": [
    "print(np.arange(1,10,1))"
   ]
  },
  {
   "cell_type": "code",
   "execution_count": 31,
   "id": "ae03ab9b",
   "metadata": {},
   "outputs": [],
   "source": [
    "def plot_predictions(trainLoss, testLoss, epoch):\n",
    "    epoch = np.arange(0,epoch+1,1)\n",
    "    plt.plot(trainLoss,epoch,label=\"train loss\")\n",
    "    plt.plot(testLoss,epoch, label='test loss ')\n",
    "    plt.xlabel(\"epochs\")\n",
    "    plt.ylabel(\"loss\")\n",
    "    plt.legend()\n",
    "    plt.show()"
   ]
  },
  {
   "cell_type": "code",
   "execution_count": 25,
   "id": "2380804a",
   "metadata": {},
   "outputs": [
    {
     "data": {
      "text/plain": [
       "<__main__.cifarDS at 0x75b8631fe440>"
      ]
     },
     "execution_count": 25,
     "metadata": {},
     "output_type": "execute_result"
    }
   ],
   "source": [
    "trainDataLoader.dataset"
   ]
  },
  {
   "cell_type": "code",
   "execution_count": 33,
   "id": "f723d279",
   "metadata": {},
   "outputs": [
    {
     "name": "stderr",
     "output_type": "stream",
     "text": [
      "  0%|          | 0/1000 [06:48<?, ?it/s]"
     ]
    },
    {
     "name": "stdout",
     "output_type": "stream",
     "text": [
      "Train Loss after iteration 0 : 1.1515791416168213\n",
      "Test Loss occured after iteration 0 : 2.3228166103363037\n"
     ]
    },
    {
     "name": "stderr",
     "output_type": "stream",
     "text": [
      "\n"
     ]
    },
    {
     "ename": "AttributeError",
     "evalue": "'list' object has no attribute 'to'",
     "output_type": "error",
     "traceback": [
      "\u001b[0;31m---------------------------------------------------------------------------\u001b[0m",
      "\u001b[0;31mAttributeError\u001b[0m                            Traceback (most recent call last)",
      "Cell \u001b[0;32mIn[33], line 39\u001b[0m\n\u001b[1;32m     36\u001b[0m trainLosslist\u001b[38;5;241m.\u001b[39mappend(trainLoss\u001b[38;5;241m/\u001b[39m\u001b[38;5;28mlen\u001b[39m(trainDataLoader\u001b[38;5;241m.\u001b[39mdataset))\n\u001b[1;32m     37\u001b[0m testLosslist\u001b[38;5;241m.\u001b[39mappend(testLoss\u001b[38;5;241m/\u001b[39m\u001b[38;5;28mlen\u001b[39m(testDataLoader\u001b[38;5;241m.\u001b[39mdataset))\n\u001b[0;32m---> 39\u001b[0m plot_predictions(\u001b[43mtrainLosslist\u001b[49m\u001b[38;5;241;43m.\u001b[39;49m\u001b[43mto\u001b[49m(\u001b[38;5;124m'\u001b[39m\u001b[38;5;124mcpu\u001b[39m\u001b[38;5;124m'\u001b[39m), testLosslist\u001b[38;5;241m.\u001b[39mto(\u001b[38;5;124m'\u001b[39m\u001b[38;5;124mcpu\u001b[39m\u001b[38;5;124m'\u001b[39m), i)\n",
      "\u001b[0;31mAttributeError\u001b[0m: 'list' object has no attribute 'to'"
     ]
    }
   ],
   "source": [
    "epochs = 1000\n",
    "trainLosslist = []\n",
    "testLosslist =[]\n",
    "trainLoss = 0\n",
    "testLoss = 0\n",
    "\n",
    "\n",
    "for i in tqdm(range(epochs)):\n",
    "    alexnet.train()\n",
    "    for x, y in trainDataLoader:\n",
    "        x,y = x.to(device),y.to(device)\n",
    "        \n",
    "        optim.zero_grad()\n",
    "        train_pred = alexnet(x)\n",
    "        loss = criteration(train_pred,y)\n",
    "\n",
    "        loss.backward()\n",
    "\n",
    "        optim.step()\n",
    "\n",
    "        trainLoss += loss\n",
    "        \n",
    "    alexnet.eval()\n",
    "    with torch.inference_mode():\n",
    "        for test_x,test_y in testDataLoader:\n",
    "            test_x,test_y = x.to(device), y.to(device)\n",
    "            test_pred = alexnet(x)\n",
    "            test_loss = criteration(test_pred,y)\n",
    "\n",
    "            testLoss += loss\n",
    "\n",
    "    print(f'Train Loss after iteration {i} : {trainLoss/len(trainDataLoader.dataset)}')\n",
    "    print(f'Test Loss occured after iteration {i} : {testLoss/len(testDataLoader.dataset)}')\n",
    "    \n",
    "\n",
    "    trainLosslist.append(trainLoss/len(trainDataLoader.dataset))\n",
    "    testLosslist.append(testLoss/len(testDataLoader.dataset))\n",
    "\n",
    "    plot_predictions(trainLosslist.to('cpu'), testLosslist.to('cpu'), i)\n",
    "            \n"
   ]
  }
 ],
 "metadata": {
  "kernelspec": {
   "display_name": "pose",
   "language": "python",
   "name": "python3"
  },
  "language_info": {
   "codemirror_mode": {
    "name": "ipython",
    "version": 3
   },
   "file_extension": ".py",
   "mimetype": "text/x-python",
   "name": "python",
   "nbconvert_exporter": "python",
   "pygments_lexer": "ipython3",
   "version": "3.10.18"
  }
 },
 "nbformat": 4,
 "nbformat_minor": 5
}
