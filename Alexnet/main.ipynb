{
 "cells": [
  {
   "cell_type": "code",
   "execution_count": 1,
   "id": "eb2234cd",
   "metadata": {},
   "outputs": [],
   "source": [
    "import zipfile\n",
    "import os\n",
    "\n",
    "with zipfile.ZipFile(os.path.join(os.getcwd(),'cifar10.zip'),'r') as zip_ref:\n",
    "    zip_ref.extractall()"
   ]
  },
  {
   "cell_type": "code",
   "execution_count": 10,
   "id": "141286f8",
   "metadata": {},
   "outputs": [],
   "source": [
    "import torch\n",
    "from torch import nn\n",
    "\n",
    "from torch.utils.data import DataLoader, Dataset\n",
    "from torchvision import transforms\n",
    "import numpy as np\n",
    "from PIL import  Image\n",
    "import pathlib"
   ]
  },
  {
   "cell_type": "code",
   "execution_count": 3,
   "id": "0ea5dc5a",
   "metadata": {},
   "outputs": [],
   "source": [
    "train_dir = os.path.join(os.getcwd(),'cifar10','train')\n",
    "test_dir  = os.path.join(os.getcwd(),'cifar10','test')\n"
   ]
  },
  {
   "cell_type": "code",
   "execution_count": 5,
   "id": "042c7be1",
   "metadata": {},
   "outputs": [
    {
     "name": "stdout",
     "output_type": "stream",
     "text": [
      "['airplane', 'automobile', 'bird', 'cat', 'deer', 'dog', 'frog', 'horse', 'ship', 'truck']\n"
     ]
    }
   ],
   "source": [
    "class_names = [name for name in os.listdir(test_dir)]\n",
    "class_names.sort()\n",
    "print(class_names)"
   ]
  },
  {
   "cell_type": "code",
   "execution_count": 6,
   "id": "9da57cc9",
   "metadata": {},
   "outputs": [
    {
     "name": "stdout",
     "output_type": "stream",
     "text": [
      "{0: 'airplane', 1: 'automobile', 2: 'bird', 3: 'cat', 4: 'deer', 5: 'dog', 6: 'frog', 7: 'horse', 8: 'ship', 9: 'truck'}\n"
     ]
    }
   ],
   "source": [
    "class_dict = {num:name for num,name in enumerate(class_names)}\n",
    "print(class_dict)"
   ]
  },
  {
   "cell_type": "code",
   "execution_count": null,
   "id": "3c7b51c1",
   "metadata": {},
   "outputs": [
    {
     "data": {
      "text/plain": [
       "<bound method Image.show of <PIL.PngImagePlugin.PngImageFile image mode=RGB size=32x32 at 0x71D484F42590>>"
      ]
     },
     "execution_count": 13,
     "metadata": {},
     "output_type": "execute_result"
    }
   ],
   "source": []
  },
  {
   "cell_type": "code",
   "execution_count": 14,
   "id": "deb405f0",
   "metadata": {},
   "outputs": [],
   "source": [
    "class cifarDS(Dataset):\n",
    "\n",
    "    def __init__(self,path:str,transform:transforms = None):\n",
    "        self.path = path\n",
    "        self.transform = transform\n",
    "        self.all_images = pathlib.Path(self.path).glob('*/*.png')\n",
    "\n",
    "\n",
    "    def __len__(self):\n",
    "        return len(self.all_images)\n",
    "    \n",
    "    def getImage(self,path:str) -> Image.Image: \n",
    "\n",
    "        return Image.open(path)\n",
    "\n",
    "    def __getitem__(self, index:str ) -> torch.Tensor:\n",
    "\n",
    "        path = self.all_images[index]\n",
    "\n",
    "        image = self.getImage(path)\n",
    "\n",
    "        if self.transform:\n",
    "            return self.transform(image)\n",
    "        \n",
    "\n",
    "        else:\n",
    "            self.transform = transforms.Compose([\n",
    "                transforms.ToTensor()\n",
    "            ])\n",
    "\n",
    "\n",
    "\n",
    "\n",
    "\n",
    "\n",
    "\n",
    "        "
   ]
  },
  {
   "cell_type": "code",
   "execution_count": null,
   "id": "5af2527a",
   "metadata": {},
   "outputs": [],
   "source": [
    "\n",
    "\n"
   ]
  }
 ],
 "metadata": {
  "kernelspec": {
   "display_name": "pose",
   "language": "python",
   "name": "python3"
  },
  "language_info": {
   "codemirror_mode": {
    "name": "ipython",
    "version": 3
   },
   "file_extension": ".py",
   "mimetype": "text/x-python",
   "name": "python",
   "nbconvert_exporter": "python",
   "pygments_lexer": "ipython3",
   "version": "3.10.18"
  }
 },
 "nbformat": 4,
 "nbformat_minor": 5
}
